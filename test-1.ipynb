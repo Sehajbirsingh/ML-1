{
  "nbformat": 4,
  "nbformat_minor": 0,
  "metadata": {
    "colab": {
      "provenance": [],
      "authorship_tag": "ABX9TyO/2yYgqP3tNEyxXqhOSTCu",
      "include_colab_link": true
    },
    "kernelspec": {
      "name": "python3",
      "display_name": "Python 3"
    },
    "language_info": {
      "name": "python"
    }
  },
  "cells": [
    {
      "cell_type": "markdown",
      "metadata": {
        "id": "view-in-github",
        "colab_type": "text"
      },
      "source": [
        "<a href=\"https://colab.research.google.com/github/Sehajbirsingh/ML-1/blob/main/test-1.ipynb\" target=\"_parent\"><img src=\"https://colab.research.google.com/assets/colab-badge.svg\" alt=\"Open In Colab\"/></a>"
      ]
    },
    {
      "cell_type": "code",
      "execution_count": null,
      "metadata": {
        "colab": {
          "base_uri": "https://localhost:8080/"
        },
        "id": "HZHNeorkWgA7",
        "outputId": "d0a25d30-7e31-4efc-8fd7-541f7fb2269c"
      },
      "outputs": [
        {
          "output_type": "stream",
          "name": "stdout",
          "text": [
            "Requirement already satisfied: nltk in /usr/local/lib/python3.10/dist-packages (3.8.1)\n",
            "Requirement already satisfied: click in /usr/local/lib/python3.10/dist-packages (from nltk) (8.1.7)\n",
            "Requirement already satisfied: joblib in /usr/local/lib/python3.10/dist-packages (from nltk) (1.4.2)\n",
            "Requirement already satisfied: regex>=2021.8.3 in /usr/local/lib/python3.10/dist-packages (from nltk) (2024.5.15)\n",
            "Requirement already satisfied: tqdm in /usr/local/lib/python3.10/dist-packages (from nltk) (4.66.5)\n"
          ]
        }
      ],
      "source": [
        "pip install nltk"
      ]
    },
    {
      "cell_type": "markdown",
      "source": [
        "import pandas as pd\n",
        "import numpy as np\n",
        "import nltk"
      ],
      "metadata": {
        "id": "oGmVVTGLWlQe"
      }
    },
    {
      "cell_type": "code",
      "source": [
        "import pandas as pd\n",
        "import numpy as np\n",
        "import nltk"
      ],
      "metadata": {
        "id": "WAy7XhhTXKdF"
      },
      "execution_count": null,
      "outputs": []
    },
    {
      "cell_type": "code",
      "source": [
        "from google.colab import drive\n",
        "import pandas as pd\n",
        "\n",
        "# Mount Google Drive\n",
        "drive.mount('/content/drive')\n",
        "\n",
        "# Replace 'path_to_spam.csv' with the full path of your file in Drive\n",
        "file_path = '/content/drive/My Drive/spam.csv'\n",
        "\n",
        "\n"
      ],
      "metadata": {
        "id": "EeiPw1l2XOrf",
        "colab": {
          "base_uri": "https://localhost:8080/"
        },
        "outputId": "942cfc86-9d07-4186-aef7-56953b2efc70"
      },
      "execution_count": 11,
      "outputs": [
        {
          "output_type": "stream",
          "name": "stdout",
          "text": [
            "Drive already mounted at /content/drive; to attempt to forcibly remount, call drive.mount(\"/content/drive\", force_remount=True).\n",
            "    ham  \\\n",
            "0   ham   \n",
            "1  spam   \n",
            "2   ham   \n",
            "3   ham   \n",
            "4  spam   \n",
            "\n",
            "  Go until jurong point, crazy.. Available only in bugis n great world la e buffet... Cine there got amore wat...  \\\n",
            "0                      Ok lar... Joking wif u oni...                                                                \n",
            "1  Free entry in 2 a wkly comp to win FA Cup fina...                                                                \n",
            "2  U dun say so early hor... U c already then say...                                                                \n",
            "3  Nah I don't think he goes to usf, he lives aro...                                                                \n",
            "4  FreeMsg Hey there darling it's been 3 week's n...                                                                \n",
            "\n",
            "  Unnamed: 2 Unnamed: 3 Unnamed: 4  \n",
            "0        NaN        NaN        NaN  \n",
            "1        NaN        NaN        NaN  \n",
            "2        NaN        NaN        NaN  \n",
            "3        NaN        NaN        NaN  \n",
            "4        NaN        NaN        NaN  \n"
          ]
        }
      ]
    },
    {
      "cell_type": "code",
      "source": [
        "# Read the CSV file\n",
        "df = pd.read_csv(file_path, encoding='ISO-8859-1')\n",
        "\n",
        "# Print first 5 rows\n",
        "print(df.head())"
      ],
      "metadata": {
        "colab": {
          "base_uri": "https://localhost:8080/"
        },
        "id": "rjCu0mSpbeg9",
        "outputId": "5faf383e-d84d-4254-9ee2-d162631d3c9d"
      },
      "execution_count": 12,
      "outputs": [
        {
          "output_type": "stream",
          "name": "stdout",
          "text": [
            "    ham  \\\n",
            "0   ham   \n",
            "1  spam   \n",
            "2   ham   \n",
            "3   ham   \n",
            "4  spam   \n",
            "\n",
            "  Go until jurong point, crazy.. Available only in bugis n great world la e buffet... Cine there got amore wat...  \\\n",
            "0                      Ok lar... Joking wif u oni...                                                                \n",
            "1  Free entry in 2 a wkly comp to win FA Cup fina...                                                                \n",
            "2  U dun say so early hor... U c already then say...                                                                \n",
            "3  Nah I don't think he goes to usf, he lives aro...                                                                \n",
            "4  FreeMsg Hey there darling it's been 3 week's n...                                                                \n",
            "\n",
            "  Unnamed: 2 Unnamed: 3 Unnamed: 4  \n",
            "0        NaN        NaN        NaN  \n",
            "1        NaN        NaN        NaN  \n",
            "2        NaN        NaN        NaN  \n",
            "3        NaN        NaN        NaN  \n",
            "4        NaN        NaN        NaN  \n"
          ]
        }
      ]
    },
    {
      "cell_type": "code",
      "source": [
        "a=5\n",
        "b=6"
      ],
      "metadata": {
        "id": "SAtBFsNGnDg_"
      },
      "execution_count": 13,
      "outputs": []
    },
    {
      "cell_type": "code",
      "source": [
        "print(a==b)"
      ],
      "metadata": {
        "colab": {
          "base_uri": "https://localhost:8080/"
        },
        "id": "0MypydgunGrY",
        "outputId": "662f2b0e-94ad-45a2-bdab-a407a6756b02"
      },
      "execution_count": 14,
      "outputs": [
        {
          "output_type": "stream",
          "name": "stdout",
          "text": [
            "False\n"
          ]
        }
      ]
    },
    {
      "cell_type": "code",
      "source": [
        "print(a is b)"
      ],
      "metadata": {
        "colab": {
          "base_uri": "https://localhost:8080/"
        },
        "id": "K5iz2UlsnIlo",
        "outputId": "a255c49e-43fc-45a7-cbb2-b97b272c31e0"
      },
      "execution_count": 15,
      "outputs": [
        {
          "output_type": "stream",
          "name": "stdout",
          "text": [
            "False\n"
          ]
        }
      ]
    },
    {
      "cell_type": "code",
      "source": [
        "x= 1400000.00\n",
        "y=1.4e6\n",
        "print(x==y)"
      ],
      "metadata": {
        "colab": {
          "base_uri": "https://localhost:8080/"
        },
        "id": "oK0jfc6jnKvK",
        "outputId": "d31ee3e1-762f-4db1-f504-ea9bdae4f333"
      },
      "execution_count": 16,
      "outputs": [
        {
          "output_type": "stream",
          "name": "stdout",
          "text": [
            "True\n"
          ]
        }
      ]
    },
    {
      "cell_type": "code",
      "source": [
        "print(x is y)"
      ],
      "metadata": {
        "colab": {
          "base_uri": "https://localhost:8080/"
        },
        "id": "2mNur2FtoW4r",
        "outputId": "1f07e30d-2ec6-4a56-d738-eafbd06bec6a"
      },
      "execution_count": 17,
      "outputs": [
        {
          "output_type": "stream",
          "name": "stdout",
          "text": [
            "False\n"
          ]
        }
      ]
    },
    {
      "cell_type": "code",
      "source": [
        "0.1 + 0.2 == 0.3"
      ],
      "metadata": {
        "colab": {
          "base_uri": "https://localhost:8080/"
        },
        "id": "ZrehI1v2oYbH",
        "outputId": "ccef3122-8d92-4501-a745-c7adf9e4e38a"
      },
      "execution_count": 18,
      "outputs": [
        {
          "output_type": "execute_result",
          "data": {
            "text/plain": [
              "False"
            ]
          },
          "metadata": {},
          "execution_count": 18
        }
      ]
    },
    {
      "cell_type": "code",
      "source": [
        "0.1000 + 0.2000 == 0.3000"
      ],
      "metadata": {
        "colab": {
          "base_uri": "https://localhost:8080/"
        },
        "id": "d1FUcMDQopN6",
        "outputId": "261d3132-9a7e-469a-badd-6f9e8330b2bb"
      },
      "execution_count": 19,
      "outputs": [
        {
          "output_type": "execute_result",
          "data": {
            "text/plain": [
              "False"
            ]
          },
          "metadata": {},
          "execution_count": 19
        }
      ]
    },
    {
      "cell_type": "code",
      "source": [
        "print(0.1000 + 0.2000)  # Outputs: 0.3000\n",
        "print(0.1000 + 0.2000 == 0.3000)  # Outputs: True"
      ],
      "metadata": {
        "colab": {
          "base_uri": "https://localhost:8080/"
        },
        "id": "Dq6T6o82pACZ",
        "outputId": "50c7624b-f99d-43d2-d971-d1185985bbbc"
      },
      "execution_count": 20,
      "outputs": [
        {
          "output_type": "stream",
          "name": "stdout",
          "text": [
            "0.30000000000000004\n",
            "False\n"
          ]
        }
      ]
    },
    {
      "cell_type": "code",
      "source": [
        "message = \"Hello, World!\"\n",
        "print(message)"
      ],
      "metadata": {
        "colab": {
          "base_uri": "https://localhost:8080/"
        },
        "id": "s98c4Ve6pSGJ",
        "outputId": "187acb2a-08a8-44aa-84c2-0844bc828bab"
      },
      "execution_count": 21,
      "outputs": [
        {
          "output_type": "stream",
          "name": "stdout",
          "text": [
            "Hello, World!\n"
          ]
        }
      ]
    },
    {
      "cell_type": "code",
      "source": [
        "print(message[0])"
      ],
      "metadata": {
        "colab": {
          "base_uri": "https://localhost:8080/"
        },
        "id": "JBXUd1aXqRTx",
        "outputId": "c7436788-24a4-4426-9056-b0e44cc572a6"
      },
      "execution_count": 22,
      "outputs": [
        {
          "output_type": "stream",
          "name": "stdout",
          "text": [
            "H\n"
          ]
        }
      ]
    },
    {
      "cell_type": "code",
      "source": [
        "L=[2,3,5,7,9]"
      ],
      "metadata": {
        "id": "Q4RI9kmKqTV-"
      },
      "execution_count": 23,
      "outputs": []
    },
    {
      "cell_type": "code",
      "source": [
        "print(L[0:3])"
      ],
      "metadata": {
        "colab": {
          "base_uri": "https://localhost:8080/"
        },
        "id": "fSTabKnru5rF",
        "outputId": "eb514f14-e9f0-4a1c-8482-03c4857f51bd"
      },
      "execution_count": 29,
      "outputs": [
        {
          "output_type": "stream",
          "name": "stdout",
          "text": [
            "[2, 3, 5]\n"
          ]
        }
      ]
    },
    {
      "cell_type": "code",
      "source": [
        "for i in range(3):\n",
        "      pass\n",
        "      print(i,'')"
      ],
      "metadata": {
        "colab": {
          "base_uri": "https://localhost:8080/"
        },
        "id": "LsPMNkivu_rP",
        "outputId": "5620a1ed-b952-4275-e10c-d5a07444f17f"
      },
      "execution_count": 33,
      "outputs": [
        {
          "output_type": "stream",
          "name": "stdout",
          "text": [
            "0 \n",
            "1 \n",
            "2 \n"
          ]
        }
      ]
    },
    {
      "cell_type": "code",
      "source": [
        "data = [(1, 'apple'), (3, 'banana'), (2, 'cherry')]\n",
        "sorted_data = sorted(data, key=lambda x: x[0])\n",
        "print(sorted_data)"
      ],
      "metadata": {
        "colab": {
          "base_uri": "https://localhost:8080/"
        },
        "id": "Ll97jQuEzYIR",
        "outputId": "f0956426-47da-47eb-b336-cf1e00248c80"
      },
      "execution_count": 35,
      "outputs": [
        {
          "output_type": "stream",
          "name": "stdout",
          "text": [
            "[(1, 'apple'), (2, 'cherry'), (3, 'banana')]\n"
          ]
        }
      ]
    },
    {
      "cell_type": "code",
      "source": [],
      "metadata": {
        "id": "DReMDwdT3tu6"
      },
      "execution_count": null,
      "outputs": []
    }
  ]
}