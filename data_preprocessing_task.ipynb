{
  "nbformat": 4,
  "nbformat_minor": 0,
  "metadata": {
    "colab": {
      "provenance": [],
      "authorship_tag": "ABX9TyMZZuK6tE4A3Vl6brHqw1JT",
      "include_colab_link": true
    },
    "kernelspec": {
      "name": "python3",
      "display_name": "Python 3"
    },
    "language_info": {
      "name": "python"
    }
  },
  "cells": [
    {
      "cell_type": "markdown",
      "metadata": {
        "id": "view-in-github",
        "colab_type": "text"
      },
      "source": [
        "<a href=\"https://colab.research.google.com/github/Sehajbirsingh/ML-1/blob/main/data_preprocessing_task.ipynb\" target=\"_parent\"><img src=\"https://colab.research.google.com/assets/colab-badge.svg\" alt=\"Open In Colab\"/></a>"
      ]
    },
    {
      "cell_type": "code",
      "execution_count": 10,
      "metadata": {
        "id": "v4BdrbfTLjAc"
      },
      "outputs": [],
      "source": [
        "import pandas as pd\n",
        "import numpy as np\n",
        "from sklearn.impute import SimpleImputer\n",
        "from sklearn.preprocessing import LabelEncoder, OneHotEncoder\n",
        "from sklearn.compose import ColumnTransformer"
      ]
    },
    {
      "cell_type": "code",
      "source": [
        "df=pd.read_csv('X_train.csv')\n"
      ],
      "metadata": {
        "id": "_frT7GBmN8mf"
      },
      "execution_count": 2,
      "outputs": []
    },
    {
      "cell_type": "code",
      "source": [
        "print(df.isnull().sum())"
      ],
      "metadata": {
        "colab": {
          "base_uri": "https://localhost:8080/"
        },
        "id": "yibQBit5OUnI",
        "outputId": "b2a0a16b-94c8-44eb-9400-623b1c97ab93"
      },
      "execution_count": 4,
      "outputs": [
        {
          "output_type": "stream",
          "name": "stdout",
          "text": [
            "Loan_ID              0\n",
            "Gender               0\n",
            "Married              0\n",
            "Dependents           0\n",
            "Education            0\n",
            "Self_Employed        0\n",
            "ApplicantIncome      0\n",
            "CoapplicantIncome    0\n",
            "LoanAmount           0\n",
            "Loan_Amount_Term     0\n",
            "Credit_History       0\n",
            "Property_Area        0\n",
            "dtype: int64\n"
          ]
        }
      ]
    },
    {
      "cell_type": "code",
      "source": [
        "categorical_columns = ['Gender', 'Married', 'Dependents', 'Education', 'Self_Employed', 'Property_Area']\n",
        "numerical_columns = ['ApplicantIncome', 'CoapplicantIncome', 'LoanAmount', 'Loan_Amount_Term', 'Credit_History']\n",
        "\n",
        "# Handle categorical variables\n",
        "# We'll use one-hot encoding for categorical variables\n",
        "onehot = OneHotEncoder(sparse=False, handle_unknown='ignore')\n",
        "ct = ColumnTransformer([(\"encoder\", onehot, categorical_columns)], remainder='passthrough')\n",
        "\n",
        "# Fit and transform the data\n",
        "X = ct.fit_transform(df)"
      ],
      "metadata": {
        "colab": {
          "base_uri": "https://localhost:8080/"
        },
        "id": "aG5YGreVOc8p",
        "outputId": "4eff4425-e69d-4071-d369-75d68bb8f4f0"
      },
      "execution_count": 11,
      "outputs": [
        {
          "output_type": "stream",
          "name": "stderr",
          "text": [
            "/usr/local/lib/python3.10/dist-packages/sklearn/preprocessing/_encoders.py:975: FutureWarning: `sparse` was renamed to `sparse_output` in version 1.2 and will be removed in 1.4. `sparse_output` is ignored unless you leave `sparse` to its default value.\n",
            "  warnings.warn(\n"
          ]
        }
      ]
    },
    {
      "cell_type": "code",
      "source": [
        "# Get the new column names\n",
        "onehot_columns = ct.named_transformers_['encoder'].get_feature_names(categorical_columns)\n",
        "all_columns = np.concatenate([onehot_columns, numerical_columns])\n",
        "\n",
        "# Create a new dataframe with encoded features\n",
        "df_encoded = pd.DataFrame(X, columns=all_columns, index=df.index)\n",
        "\n",
        "# Add back the Loan_ID column\n",
        "df_encoded['Loan_ID'] = df['Loan_ID']\n",
        "\n",
        "# Display the first few rows of the processed dataset\n",
        "print(df_encoded.head())"
      ],
      "metadata": {
        "colab": {
          "base_uri": "https://localhost:8080/",
          "height": 211
        },
        "id": "HiY23Y0QOk6G",
        "outputId": "e53fe4d1-70f2-48b9-86aa-25daba5ae1b7"
      },
      "execution_count": 12,
      "outputs": [
        {
          "output_type": "error",
          "ename": "AttributeError",
          "evalue": "'OneHotEncoder' object has no attribute 'get_feature_names'",
          "traceback": [
            "\u001b[0;31m---------------------------------------------------------------------------\u001b[0m",
            "\u001b[0;31mAttributeError\u001b[0m                            Traceback (most recent call last)",
            "\u001b[0;32m<ipython-input-12-2cbe224d5177>\u001b[0m in \u001b[0;36m<cell line: 2>\u001b[0;34m()\u001b[0m\n\u001b[1;32m      1\u001b[0m \u001b[0;31m# Get the new column names\u001b[0m\u001b[0;34m\u001b[0m\u001b[0;34m\u001b[0m\u001b[0m\n\u001b[0;32m----> 2\u001b[0;31m \u001b[0monehot_columns\u001b[0m \u001b[0;34m=\u001b[0m \u001b[0mct\u001b[0m\u001b[0;34m.\u001b[0m\u001b[0mnamed_transformers_\u001b[0m\u001b[0;34m[\u001b[0m\u001b[0;34m'encoder'\u001b[0m\u001b[0;34m]\u001b[0m\u001b[0;34m.\u001b[0m\u001b[0mget_feature_names\u001b[0m\u001b[0;34m(\u001b[0m\u001b[0mcategorical_columns\u001b[0m\u001b[0;34m)\u001b[0m\u001b[0;34m\u001b[0m\u001b[0;34m\u001b[0m\u001b[0m\n\u001b[0m\u001b[1;32m      3\u001b[0m \u001b[0mall_columns\u001b[0m \u001b[0;34m=\u001b[0m \u001b[0mnp\u001b[0m\u001b[0;34m.\u001b[0m\u001b[0mconcatenate\u001b[0m\u001b[0;34m(\u001b[0m\u001b[0;34m[\u001b[0m\u001b[0monehot_columns\u001b[0m\u001b[0;34m,\u001b[0m \u001b[0mnumerical_columns\u001b[0m\u001b[0;34m]\u001b[0m\u001b[0;34m)\u001b[0m\u001b[0;34m\u001b[0m\u001b[0;34m\u001b[0m\u001b[0m\n\u001b[1;32m      4\u001b[0m \u001b[0;34m\u001b[0m\u001b[0m\n\u001b[1;32m      5\u001b[0m \u001b[0;31m# Create a new dataframe with encoded features\u001b[0m\u001b[0;34m\u001b[0m\u001b[0;34m\u001b[0m\u001b[0m\n",
            "\u001b[0;31mAttributeError\u001b[0m: 'OneHotEncoder' object has no attribute 'get_feature_names'"
          ]
        }
      ]
    },
    {
      "cell_type": "code",
      "source": [
        "# Simple Loan Data Preprocessing Task\n",
        "\n",
        "import pandas as pd\n",
        "import numpy as np\n",
        "\n",
        "# Load the dataset\n",
        "df = pd.read_csv('X_train.csv')\n",
        "\n",
        "# Display the first few rows and basic information\n",
        "print(df.head())\n",
        "print(df.info())\n",
        "\n",
        "# Check for missing values\n",
        "print(df.isnull().sum())\n",
        "\n",
        "# Identify categorical and numerical columns\n",
        "categorical_columns = ['Gender', 'Married', 'Dependents', 'Education', 'Self_Employed', 'Property_Area']\n",
        "numerical_columns = ['ApplicantIncome', 'CoapplicantIncome', 'LoanAmount', 'Loan_Amount_Term', 'Credit_History']\n",
        "\n",
        "# Handle categorical variables using pandas get_dummies\n",
        "df_encoded = pd.get_dummies(df, columns=categorical_columns, drop_first=True)\n",
        "\n",
        "# Reorder columns to group encoded features\n",
        "columns_order = ['Loan_ID'] + [col for col in df_encoded.columns if col.startswith(tuple(categorical_columns))] + numerical_columns\n",
        "df_encoded = df_encoded[columns_order]\n",
        "\n",
        "# Display the first few rows of the processed dataset\n",
        "print(df_encoded.head())\n",
        "\n",
        "# Display basic information about the processed dataset\n",
        "print(df_encoded.info())\n",
        "\n",
        "# Summary statistics of the processed dataset\n",
        "print(df_encoded.describe())\n",
        "\n",
        "# Save the processed dataset\n",
        "df_encoded.to_csv('processed_loan_data.csv', index=False)\n",
        "print(\"Processed data saved to 'processed_loan_data.csv'\")"
      ],
      "metadata": {
        "colab": {
          "base_uri": "https://localhost:8080/"
        },
        "id": "UIVs2jn6PAyP",
        "outputId": "6877f0bc-d348-455d-d947-9758fa450524"
      },
      "execution_count": 13,
      "outputs": [
        {
          "output_type": "stream",
          "name": "stdout",
          "text": [
            "    Loan_ID Gender Married Dependents Education Self_Employed  \\\n",
            "0  LP001032   Male      No          0  Graduate            No   \n",
            "1  LP001824   Male     Yes          1  Graduate            No   \n",
            "2  LP002928   Male     Yes          0  Graduate            No   \n",
            "3  LP001814   Male     Yes          2  Graduate            No   \n",
            "4  LP002244   Male     Yes          0  Graduate            No   \n",
            "\n",
            "   ApplicantIncome  CoapplicantIncome  LoanAmount  Loan_Amount_Term  \\\n",
            "0             4950                0.0         125               360   \n",
            "1             2882             1843.0         123               480   \n",
            "2             3000             3416.0          56               180   \n",
            "3             9703                0.0         112               360   \n",
            "4             2333             2417.0         136               360   \n",
            "\n",
            "   Credit_History Property_Area  \n",
            "0               1         Urban  \n",
            "1               1     Semiurban  \n",
            "2               1     Semiurban  \n",
            "3               1         Urban  \n",
            "4               1         Urban  \n",
            "<class 'pandas.core.frame.DataFrame'>\n",
            "RangeIndex: 384 entries, 0 to 383\n",
            "Data columns (total 12 columns):\n",
            " #   Column             Non-Null Count  Dtype  \n",
            "---  ------             --------------  -----  \n",
            " 0   Loan_ID            384 non-null    object \n",
            " 1   Gender             384 non-null    object \n",
            " 2   Married            384 non-null    object \n",
            " 3   Dependents         384 non-null    object \n",
            " 4   Education          384 non-null    object \n",
            " 5   Self_Employed      384 non-null    object \n",
            " 6   ApplicantIncome    384 non-null    int64  \n",
            " 7   CoapplicantIncome  384 non-null    float64\n",
            " 8   LoanAmount         384 non-null    int64  \n",
            " 9   Loan_Amount_Term   384 non-null    int64  \n",
            " 10  Credit_History     384 non-null    int64  \n",
            " 11  Property_Area      384 non-null    object \n",
            "dtypes: float64(1), int64(4), object(7)\n",
            "memory usage: 36.1+ KB\n",
            "None\n",
            "Loan_ID              0\n",
            "Gender               0\n",
            "Married              0\n",
            "Dependents           0\n",
            "Education            0\n",
            "Self_Employed        0\n",
            "ApplicantIncome      0\n",
            "CoapplicantIncome    0\n",
            "LoanAmount           0\n",
            "Loan_Amount_Term     0\n",
            "Credit_History       0\n",
            "Property_Area        0\n",
            "dtype: int64\n",
            "    Loan_ID  Gender_Male  Married_Yes  Dependents_1  Dependents_2  \\\n",
            "0  LP001032         True        False         False         False   \n",
            "1  LP001824         True         True          True         False   \n",
            "2  LP002928         True         True         False         False   \n",
            "3  LP001814         True         True         False          True   \n",
            "4  LP002244         True         True         False         False   \n",
            "\n",
            "   Dependents_3+  Education_Not Graduate  Self_Employed_Yes  \\\n",
            "0          False                   False              False   \n",
            "1          False                   False              False   \n",
            "2          False                   False              False   \n",
            "3          False                   False              False   \n",
            "4          False                   False              False   \n",
            "\n",
            "   Property_Area_Semiurban  Property_Area_Urban  ApplicantIncome  \\\n",
            "0                    False                 True             4950   \n",
            "1                     True                False             2882   \n",
            "2                     True                False             3000   \n",
            "3                    False                 True             9703   \n",
            "4                    False                 True             2333   \n",
            "\n",
            "   CoapplicantIncome  LoanAmount  Loan_Amount_Term  Credit_History  \n",
            "0                0.0         125               360               1  \n",
            "1             1843.0         123               480               1  \n",
            "2             3416.0          56               180               1  \n",
            "3                0.0         112               360               1  \n",
            "4             2417.0         136               360               1  \n",
            "<class 'pandas.core.frame.DataFrame'>\n",
            "RangeIndex: 384 entries, 0 to 383\n",
            "Data columns (total 15 columns):\n",
            " #   Column                   Non-Null Count  Dtype  \n",
            "---  ------                   --------------  -----  \n",
            " 0   Loan_ID                  384 non-null    object \n",
            " 1   Gender_Male              384 non-null    bool   \n",
            " 2   Married_Yes              384 non-null    bool   \n",
            " 3   Dependents_1             384 non-null    bool   \n",
            " 4   Dependents_2             384 non-null    bool   \n",
            " 5   Dependents_3+            384 non-null    bool   \n",
            " 6   Education_Not Graduate   384 non-null    bool   \n",
            " 7   Self_Employed_Yes        384 non-null    bool   \n",
            " 8   Property_Area_Semiurban  384 non-null    bool   \n",
            " 9   Property_Area_Urban      384 non-null    bool   \n",
            " 10  ApplicantIncome          384 non-null    int64  \n",
            " 11  CoapplicantIncome        384 non-null    float64\n",
            " 12  LoanAmount               384 non-null    int64  \n",
            " 13  Loan_Amount_Term         384 non-null    int64  \n",
            " 14  Credit_History           384 non-null    int64  \n",
            "dtypes: bool(9), float64(1), int64(4), object(1)\n",
            "memory usage: 21.5+ KB\n",
            "None\n",
            "       ApplicantIncome  CoapplicantIncome  LoanAmount  Loan_Amount_Term  \\\n",
            "count       384.000000         384.000000  384.000000        384.000000   \n",
            "mean       5149.718750        1572.077917  141.471354        342.093750   \n",
            "std        5304.921764        2624.223119   75.176271         65.846658   \n",
            "min         150.000000           0.000000    9.000000         36.000000   \n",
            "25%        2898.750000           0.000000  100.000000        360.000000   \n",
            "50%        3893.500000        1188.500000  128.000000        360.000000   \n",
            "75%        5819.500000        2259.250000  164.250000        360.000000   \n",
            "max       81000.000000       33837.000000  600.000000        480.000000   \n",
            "\n",
            "       Credit_History  \n",
            "count      384.000000  \n",
            "mean         0.856771  \n",
            "std          0.350763  \n",
            "min          0.000000  \n",
            "25%          1.000000  \n",
            "50%          1.000000  \n",
            "75%          1.000000  \n",
            "max          1.000000  \n",
            "Processed data saved to 'processed_loan_data.csv'\n"
          ]
        }
      ]
    },
    {
      "cell_type": "code",
      "source": [
        "import pandas as pd\n",
        "import numpy as np\n",
        "\n",
        "# Step 2: Loading the dataset\n",
        "df = pd.read_csv('X_train.csv')\n",
        "\n",
        "# Step 3: Exploring the dataset\n",
        "print(\"Data Preview:\")\n",
        "print(df.head())\n",
        "\n",
        "print(\"\\nData Info:\")\n",
        "print(df.info())\n",
        "\n",
        "print(\"\\nMissing Values:\")\n",
        "print(df.isnull().sum())"
      ],
      "metadata": {
        "colab": {
          "base_uri": "https://localhost:8080/"
        },
        "id": "pfmnmSATQCVq",
        "outputId": "6c30f54d-1d2e-412e-f15a-13b1cebb022d"
      },
      "execution_count": 14,
      "outputs": [
        {
          "output_type": "stream",
          "name": "stdout",
          "text": [
            "Data Preview:\n",
            "    Loan_ID Gender Married Dependents Education Self_Employed  \\\n",
            "0  LP001032   Male      No          0  Graduate            No   \n",
            "1  LP001824   Male     Yes          1  Graduate            No   \n",
            "2  LP002928   Male     Yes          0  Graduate            No   \n",
            "3  LP001814   Male     Yes          2  Graduate            No   \n",
            "4  LP002244   Male     Yes          0  Graduate            No   \n",
            "\n",
            "   ApplicantIncome  CoapplicantIncome  LoanAmount  Loan_Amount_Term  \\\n",
            "0             4950                0.0         125               360   \n",
            "1             2882             1843.0         123               480   \n",
            "2             3000             3416.0          56               180   \n",
            "3             9703                0.0         112               360   \n",
            "4             2333             2417.0         136               360   \n",
            "\n",
            "   Credit_History Property_Area  \n",
            "0               1         Urban  \n",
            "1               1     Semiurban  \n",
            "2               1     Semiurban  \n",
            "3               1         Urban  \n",
            "4               1         Urban  \n",
            "\n",
            "Data Info:\n",
            "<class 'pandas.core.frame.DataFrame'>\n",
            "RangeIndex: 384 entries, 0 to 383\n",
            "Data columns (total 12 columns):\n",
            " #   Column             Non-Null Count  Dtype  \n",
            "---  ------             --------------  -----  \n",
            " 0   Loan_ID            384 non-null    object \n",
            " 1   Gender             384 non-null    object \n",
            " 2   Married            384 non-null    object \n",
            " 3   Dependents         384 non-null    object \n",
            " 4   Education          384 non-null    object \n",
            " 5   Self_Employed      384 non-null    object \n",
            " 6   ApplicantIncome    384 non-null    int64  \n",
            " 7   CoapplicantIncome  384 non-null    float64\n",
            " 8   LoanAmount         384 non-null    int64  \n",
            " 9   Loan_Amount_Term   384 non-null    int64  \n",
            " 10  Credit_History     384 non-null    int64  \n",
            " 11  Property_Area      384 non-null    object \n",
            "dtypes: float64(1), int64(4), object(7)\n",
            "memory usage: 36.1+ KB\n",
            "None\n",
            "\n",
            "Missing Values:\n",
            "Loan_ID              0\n",
            "Gender               0\n",
            "Married              0\n",
            "Dependents           0\n",
            "Education            0\n",
            "Self_Employed        0\n",
            "ApplicantIncome      0\n",
            "CoapplicantIncome    0\n",
            "LoanAmount           0\n",
            "Loan_Amount_Term     0\n",
            "Credit_History       0\n",
            "Property_Area        0\n",
            "dtype: int64\n"
          ]
        }
      ]
    },
    {
      "cell_type": "code",
      "source": [
        "# We can use one-hot encoding or label encoding. Let's use label encoding for simplicity here.\n",
        "from sklearn.preprocessing import LabelEncoder\n",
        "\n",
        "le = LabelEncoder()\n",
        "for col in categorical_columns:\n",
        "    df[col] = le.fit_transform(df[col])\n",
        "\n",
        "print(\"\\nData after Label Encoding:\")\n",
        "print(df.head())\n"
      ],
      "metadata": {
        "colab": {
          "base_uri": "https://localhost:8080/"
        },
        "id": "hXngcUaUQqRG",
        "outputId": "77f3358b-b37d-45e1-c803-fb59d456d775"
      },
      "execution_count": 15,
      "outputs": [
        {
          "output_type": "stream",
          "name": "stdout",
          "text": [
            "\n",
            "Data after Label Encoding:\n",
            "    Loan_ID  Gender  Married  Dependents  Education  Self_Employed  \\\n",
            "0  LP001032       1        0           0          0              0   \n",
            "1  LP001824       1        1           1          0              0   \n",
            "2  LP002928       1        1           0          0              0   \n",
            "3  LP001814       1        1           2          0              0   \n",
            "4  LP002244       1        1           0          0              0   \n",
            "\n",
            "   ApplicantIncome  CoapplicantIncome  LoanAmount  Loan_Amount_Term  \\\n",
            "0             4950                0.0         125               360   \n",
            "1             2882             1843.0         123               480   \n",
            "2             3000             3416.0          56               180   \n",
            "3             9703                0.0         112               360   \n",
            "4             2333             2417.0         136               360   \n",
            "\n",
            "   Credit_History  Property_Area  \n",
            "0               1              2  \n",
            "1               1              1  \n",
            "2               1              1  \n",
            "3               1              2  \n",
            "4               1              2  \n"
          ]
        }
      ]
    },
    {
      "cell_type": "code",
      "source": [
        "from sklearn.preprocessing import MinMaxScaler\n",
        "\n",
        "scaler = MinMaxScaler()\n",
        "df[numerical_columns] = scaler.fit_transform(df[numerical_columns])\n",
        "\n",
        "print(\"\\nData after Normalization:\")\n",
        "print(df.head())"
      ],
      "metadata": {
        "colab": {
          "base_uri": "https://localhost:8080/"
        },
        "id": "KgMOpqpiQ1m8",
        "outputId": "62e6269e-0ef9-4dde-c077-abc5631f5721"
      },
      "execution_count": 16,
      "outputs": [
        {
          "output_type": "stream",
          "name": "stdout",
          "text": [
            "\n",
            "Data after Normalization:\n",
            "    Loan_ID  Gender  Married  Dependents  Education  Self_Employed  \\\n",
            "0  LP001032       1        0           0          0              0   \n",
            "1  LP001824       1        1           1          0              0   \n",
            "2  LP002928       1        1           0          0              0   \n",
            "3  LP001814       1        1           2          0              0   \n",
            "4  LP002244       1        1           0          0              0   \n",
            "\n",
            "   ApplicantIncome  CoapplicantIncome  LoanAmount  Loan_Amount_Term  \\\n",
            "0         0.059369           0.000000    0.196277          0.729730   \n",
            "1         0.033791           0.054467    0.192893          1.000000   \n",
            "2         0.035250           0.100955    0.079526          0.324324   \n",
            "3         0.118157           0.000000    0.174281          0.729730   \n",
            "4         0.027001           0.071431    0.214890          0.729730   \n",
            "\n",
            "   Credit_History  Property_Area  \n",
            "0             1.0              2  \n",
            "1             1.0              1  \n",
            "2             1.0              1  \n",
            "3             1.0              2  \n",
            "4             1.0              2  \n"
          ]
        }
      ]
    },
    {
      "cell_type": "code",
      "source": [
        "df.to_csv('processed_data.csv', index=False)\n",
        "print(\"Processed data saved as 'processed_data.csv'\")"
      ],
      "metadata": {
        "colab": {
          "base_uri": "https://localhost:8080/"
        },
        "id": "dJ98bLBLQ-pF",
        "outputId": "ce0e3607-2eed-46f1-e603-2b1f556e0141"
      },
      "execution_count": 17,
      "outputs": [
        {
          "output_type": "stream",
          "name": "stdout",
          "text": [
            "Processed data saved as 'processed_data.csv'\n"
          ]
        }
      ]
    },
    {
      "cell_type": "code",
      "source": [],
      "metadata": {
        "id": "GwyTUBjqRCi_"
      },
      "execution_count": null,
      "outputs": []
    }
  ]
}